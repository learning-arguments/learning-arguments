{
 "cells": [
  {
   "cell_type": "code",
   "execution_count": 1,
   "id": "therapeutic-outline",
   "metadata": {},
   "outputs": [],
   "source": [
    "#innocence unittest\n",
    "import unittest"
   ]
  },
  {
   "cell_type": "code",
   "execution_count": 15,
   "id": "mineral-stability",
   "metadata": {},
   "outputs": [],
   "source": [
    "def test_1():\n",
    "    print('%s is coherent: %s' % (argument, case_model.coherent(argument)))"
   ]
  },
  {
   "cell_type": "code",
   "execution_count": null,
   "id": "embedded-authorization",
   "metadata": {},
   "outputs": [],
   "source": [
    "def case_model():\n",
    "    assert case_model.valid\n",
    "def test_2():\n",
    "    not_all_evidence = Fact('all evidence',False)"
   ]
  },
  {
   "cell_type": "code",
   "execution_count": 39,
   "id": "broke-extension",
   "metadata": {},
   "outputs": [],
   "source": [
    "def case():\n",
    " case1 = case([innocent, not_guilty, not_evidence], probability=0.4, name='case1')\n",
    " case2 = case([not_innocent, guilty, evidence, not_evidence], probability=0.3, name='case2')\n",
    " case3 = case([innocent, not_guilty, evidence, not_evidence], probability=0.2, name='case3')\n",
    " case4 = case([not_innocent, guilty, evidence, evidence], probability=0.1, name='case4')\n",
    "def case_model():\n",
    " case_model = CaseModel(cases=[case1, case2, case3])\n",
    " return case_model.valid\n",
    " assert case_model.valid"
   ]
  },
  {
   "cell_type": "code",
   "execution_count": 47,
   "id": "derived-animal",
   "metadata": {},
   "outputs": [
    {
     "name": "stderr",
     "output_type": "stream",
     "text": [
      "E\n",
      "======================================================================\n",
      "ERROR: /Users/sepidehsharbaf/Library/Jupyter/runtime/kernel-6f445200-a192-45c6-8afa-43aa39b41e95 (unittest.loader._FailedTest)\n",
      "----------------------------------------------------------------------\n",
      "AttributeError: module '__main__' has no attribute '/Users/sepidehsharbaf/Library/Jupyter/runtime/kernel-6f445200-a192-45c6-8afa-43aa39b41e95'\n",
      "\n",
      "----------------------------------------------------------------------\n",
      "Ran 1 test in 0.001s\n",
      "\n",
      "FAILED (errors=1)\n"
     ]
    },
    {
     "ename": "SystemExit",
     "evalue": "True",
     "output_type": "error",
     "traceback": [
      "An exception has occurred, use %tb to see the full traceback.\n",
      "\u001b[0;31mSystemExit\u001b[0m\u001b[0;31m:\u001b[0m True\n"
     ]
    },
    {
     "name": "stderr",
     "output_type": "stream",
     "text": [
      "/usr/local/Cellar/jupyterlab/3.0.10/libexec/lib/python3.9/site-packages/IPython/core/interactiveshell.py:3445: UserWarning: To exit: use 'exit', 'quit', or Ctrl-D.\n",
      "  warn(\"To exit: use 'exit', 'quit', or Ctrl-D.\", stacklevel=1)\n"
     ]
    }
   ],
   "source": [
    "if __name__ == \"__main__\":\n",
    "    unittest.main()"
   ]
  },
  {
   "cell_type": "code",
   "execution_count": 48,
   "id": "caroline-cooling",
   "metadata": {},
   "outputs": [
    {
     "ename": "AttributeError",
     "evalue": "'function' object has no attribute 'presumptively_valid'",
     "output_type": "error",
     "traceback": [
      "\u001b[0;31m---------------------------------------------------------------------------\u001b[0m",
      "\u001b[0;31mAttributeError\u001b[0m                            Traceback (most recent call last)",
      "\u001b[0;32m<ipython-input-48-732a302bf7dc>\u001b[0m in \u001b[0;36m<module>\u001b[0;34m\u001b[0m\n\u001b[1;32m     11\u001b[0m     \u001b[0mcase_model\u001b[0m\u001b[0;34m.\u001b[0m\u001b[0massertTrue\u001b[0m\u001b[0;34m(\u001b[0m\u001b[0;34m)\u001b[0m\u001b[0;34m\u001b[0m\u001b[0;34m\u001b[0m\u001b[0m\n\u001b[1;32m     12\u001b[0m \u001b[0;34m\u001b[0m\u001b[0m\n\u001b[0;32m---> 13\u001b[0;31m \u001b[0;32massert\u001b[0m \u001b[0;32mnot\u001b[0m \u001b[0mcase_model\u001b[0m\u001b[0;34m.\u001b[0m\u001b[0mpresumptively_valid\u001b[0m\u001b[0;34m(\u001b[0m\u001b[0margument1\u001b[0m\u001b[0;34m)\u001b[0m\u001b[0;34m\u001b[0m\u001b[0;34m\u001b[0m\u001b[0m\n\u001b[0m\u001b[1;32m     14\u001b[0m \u001b[0;32massert\u001b[0m \u001b[0;32mnot\u001b[0m \u001b[0mcase_model\u001b[0m\u001b[0;34m.\u001b[0m\u001b[0mpresumptively_valid\u001b[0m\u001b[0;34m(\u001b[0m\u001b[0margument2\u001b[0m\u001b[0;34m)\u001b[0m\u001b[0;34m\u001b[0m\u001b[0;34m\u001b[0m\u001b[0m\n\u001b[1;32m     15\u001b[0m \u001b[0;32massert\u001b[0m \u001b[0;32mnot\u001b[0m \u001b[0mcase_model\u001b[0m\u001b[0;34m.\u001b[0m\u001b[0mpresumptively_valid\u001b[0m\u001b[0;34m(\u001b[0m\u001b[0margument3\u001b[0m\u001b[0;34m)\u001b[0m\u001b[0;34m\u001b[0m\u001b[0;34m\u001b[0m\u001b[0m\n",
      "\u001b[0;31mAttributeError\u001b[0m: 'function' object has no attribute 'presumptively_valid'"
     ]
    }
   ],
   "source": [
    "def argument():\n",
    " argument1 = argument(innocent)\n",
    " argument2 = argument(guilty)\n",
    " argument3 = argument(innocent, guilty)\n",
    " argument4 = argument(guilty, evidence)\n",
    " argument5 = argument(innocent, evidence, DNA_evidence)\n",
    " argument6 = argument(guilty, evidence, DNA_evidence)\n",
    "\n",
    "    \n",
    "def presumptively_valid():\n",
    "    case_model.assertTrue()\n",
    "        \n",
    "assert not case_model.presumptively_valid(argument1)\n",
    "assert not case_model.presumptively_valid(argument2)\n",
    "assert not case_model.presumptively_valid(argument3)\n",
    "assert case_model.presumptively_valid(argument4)\n",
    "assert not case_model.presumptively_valid(argument5)\n",
    "assert case_model.presumptively_valid(argument6)"
   ]
  },
  {
   "cell_type": "code",
   "execution_count": null,
   "id": "surrounded-processor",
   "metadata": {},
   "outputs": [],
   "source": []
  }
 ],
 "metadata": {
  "kernelspec": {
   "display_name": "Python 3",
   "language": "python",
   "name": "python3"
  },
  "language_info": {
   "codemirror_mode": {
    "name": "ipython",
    "version": 3
   },
   "file_extension": ".py",
   "mimetype": "text/x-python",
   "name": "python",
   "nbconvert_exporter": "python",
   "pygments_lexer": "ipython3",
   "version": "3.9.2"
  }
 },
 "nbformat": 4,
 "nbformat_minor": 5
}
