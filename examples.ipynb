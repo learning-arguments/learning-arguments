{
 "metadata": {
  "language_info": {
   "codemirror_mode": {
    "name": "ipython",
    "version": 3
   },
   "file_extension": ".py",
   "mimetype": "text/x-python",
   "name": "python",
   "nbconvert_exporter": "python",
   "pygments_lexer": "ipython3",
   "version": "3.8.5"
  },
  "orig_nbformat": 2,
  "kernelspec": {
   "name": "pythonjvsc74a57bd0527baec1ed1ff60f9a5fe74cc65f9767c5998e259085c7ef9a5f759165b6d080",
   "display_name": "Python 3.8.5  ('.venv': venv)"
  },
  "metadata": {
   "interpreter": {
    "hash": "527baec1ed1ff60f9a5fe74cc65f9767c5998e259085c7ef9a5f759165b6d080"
   }
  }
 },
 "nbformat": 4,
 "nbformat_minor": 2,
 "cells": [
  {
   "cell_type": "code",
   "execution_count": 1,
   "metadata": {},
   "outputs": [],
   "source": [
    "from logic import *\n",
    "from learning import *"
   ]
  },
  {
   "source": [
    "## Presumption of innocence\n",
    "\n",
    "(p. 137-138)\n",
    "\n",
    "\"Let `inn` denote that a suspect is innocent, and `gui` that he is guilty. Then the argument `(inn, ¬gui)` is properly presumptive, since `inn` $\\not\\models$ `gui`. The argument `(inn` $\\land$ `¬gui, ¬gui)` is non-presumptive, since `inn` $\\land$ `¬gui` $\\models$ gui.\""
   ],
   "cell_type": "markdown",
   "metadata": {}
  },
  {
   "cell_type": "code",
   "execution_count": 2,
   "metadata": {},
   "outputs": [],
   "source": [
    "assert Argument.fromStr('inn -> ¬gui').is_properly_presumptive\n",
    "assert not Argument.fromStr('inn, ¬gui -> ¬gui').is_properly_presumptive"
   ]
  },
  {
   "source": [
    "\"Presumptive validity and defeasibility are illustrated using a case model. Consider the case model with two cases `inn` $\\land$ `¬gui` and `¬inn` $\\land$ `gui` $\\land$ `evi` with the first case preferred to the second (...). Here evi denotes evidence for the suspect’s guilt.\""
   ],
   "cell_type": "markdown",
   "metadata": {}
  },
  {
   "cell_type": "code",
   "execution_count": 3,
   "metadata": {},
   "outputs": [],
   "source": [
    "case_model = CaseModel.fromStr([\n",
    "    (1, 'inn, ¬gui'),\n",
    "    (0, '¬inn, gui, evi')\n",
    "])"
   ]
  },
  {
   "source": [
    "\"Then the properly presumptive argument `(inn, ¬gui)` is presumptively valid with respect to this case model since the conclusion `¬gui` follows in the case `inn` $\\land$ `¬gui` that is a preferred case of the premise `inn`. The argument is conclusive since there are no other cases implying `inn`.\""
   ],
   "cell_type": "markdown",
   "metadata": {}
  },
  {
   "cell_type": "code",
   "execution_count": 4,
   "metadata": {},
   "outputs": [],
   "source": [
    "argument = Argument.fromStr('inn -> ¬gui')\n",
    "assert argument.is_presumptively_valid_in(case_model)\n",
    "assert argument.is_conclusive_in(case_model)"
   ]
  },
  {
   "source": [
    "\"The argument `([], inn)`—in fact a presumption now that its premises are tautologous—is presumptively valid since `inn` follows in the preferred case `inn` $\\land$ `¬gui`. This shows that the example represents what is called the presumption of innocence, when there is no evidence. This argument is properly defeasible since in the other case of the argument’s premises the conclusion does not follow.\""
   ],
   "cell_type": "markdown",
   "metadata": {}
  },
  {
   "cell_type": "code",
   "execution_count": 5,
   "metadata": {},
   "outputs": [],
   "source": [
    "presumption_of_innocence = Argument.fromStr('-> inn')\n",
    "assert presumption_of_innocence.is_a_presumption\n",
    "assert presumption_of_innocence.is_presumptively_valid_in(case_model)\n",
    "assert presumption_of_innocence.is_properly_defeasible_in(case_model)"
   ]
  },
  {
   "source": [
    "\"In fact, the argument `(evi, inn)` is not coherent since there is no case in which both `evi` and `inn` follow.\""
   ],
   "cell_type": "markdown",
   "metadata": {}
  },
  {
   "cell_type": "code",
   "execution_count": 6,
   "metadata": {},
   "outputs": [],
   "source": [
    "assert not Argument.fromStr('evi -> inn').is_coherent_in(case_model)\n"
   ]
  },
  {
   "source": [
    "\"The argument `(evi, gui)` is presumptively valid, even conclusive.\""
   ],
   "cell_type": "markdown",
   "metadata": {}
  },
  {
   "cell_type": "code",
   "execution_count": 7,
   "metadata": {},
   "outputs": [],
   "source": [
    "argument = Argument.fromStr('evi -> gui')\n",
    "assert argument.is_presumptively_valid_in(case_model)\n",
    "assert argument.is_conclusive_in(case_model)"
   ]
  },
  {
   "source": [
    "\"Continuing the example of the case model (...), we find the following. The circumstances `evi` defeat the presumptively valid argument ($\\top$, `inn`) since `(evi, inn)` is not presumptively valid. In fact, these circumstances are excluding since `(evi, inn)` is not coherent. The circumstances are also rebutting since the argument for the opposite conclusion `(evi, inn)` is presumptively valid. "
   ],
   "cell_type": "markdown",
   "metadata": {}
  },
  {
   "cell_type": "code",
   "execution_count": 8,
   "metadata": {},
   "outputs": [],
   "source": [
    "circumstances = [Fact.fromStr('evi')]\n",
    "assert presumption_of_innocence.is_defeated_by_in(circumstances, case_model)\n",
    "assert presumption_of_innocence.is_excluded_by_in(circumstances, case_model)\n",
    "assert presumption_of_innocence.is_rebutted_by_in(circumstances, case_model)"
   ]
  },
  {
   "source": [
    "### Learning arguments"
   ],
   "cell_type": "markdown",
   "metadata": {}
  },
  {
   "cell_type": "code",
   "execution_count": 9,
   "metadata": {},
   "outputs": [
    {
     "output_type": "stream",
     "name": "stdout",
     "text": [
      "\ninn ∧ ¬gui <~ \n---\n\nevi ∧ gui <- ¬inn\nevi ∧ ¬inn <- gui\ngui ∧ ¬inn <- evi\ninn <- ¬gui\n¬gui <- inn\ninn ∧ ¬gui <~ \n---\n\n¬gui <~ \ngui <~ ¬inn\nevi <~ \ninn <~ \n¬inn <~ gui\n"
     ]
    }
   ],
   "source": [
    "print(Theory.learn_with_naive_search(case_model))\n",
    "print('---')\n",
    "print(Theory.learn_with_pruned_search(case_model))\n",
    "print('---')\n",
    "print(Theory.learn_with_hero(case_model))"
   ]
  },
  {
   "source": [
    "## Lying witness"
   ],
   "cell_type": "markdown",
   "metadata": {}
  },
  {
   "source": [
    "\"In the cases, there is a witness testimony (`wit`) that the suspect was at the crime scene (`sus`). In Case 1, the witness was not misguided (`¬mis`), in Case 2 he was. In Case 1, the suspect was indeed at the crime scene; in Case 2, the witness was misguided and it is unspecified whether the suspect was at the crime scene or not. In the case model, Case 1 is preferred to Case 2 (...), representing that witnesses are usually not misguided.\" (p. 139)"
   ],
   "cell_type": "markdown",
   "metadata": {}
  },
  {
   "cell_type": "code",
   "execution_count": 10,
   "metadata": {},
   "outputs": [],
   "source": [
    "case_model = CaseModel.fromStr([\n",
    "    (1, 'sus, ¬mis, wit'),\n",
    "    (0, 'mis, wit')\n",
    "])"
   ]
  },
  {
   "source": [
    "\"Since Case 1 is a preferred case of `wit`, the argument `(wit, sus)` is presumptively valid: the witness testimony provides a presumptively valid argument for the suspect having been at the crime scene. The argument’s conclusion can be strengthened to include that the witness was not misguided. Formally, this is expressed by saying that `(wit, sus` $\\land$ `¬mis)` is a presumptively valid argument.\" (p. 139)"
   ],
   "cell_type": "markdown",
   "metadata": {}
  },
  {
   "cell_type": "code",
   "execution_count": 11,
   "metadata": {},
   "outputs": [],
   "source": [
    "assert Argument.fromStr('wit -> sus').is_presumptively_valid_in(case_model)\n",
    "assert Argument.fromStr('wit -> sus, ¬mis').is_presumptively_valid_in(case_model)"
   ]
  },
  {
   "source": [
    "\"When the witness was misguided after all (`mis`), there are circumstances defeating the argument `(wit, sus)`. This can be seen by considering that Case 2 is the only case in which `wit` $\\land$ `mis` follows, hence is preferred. Since `sus` does not follow in Case 2, the argument `(wit` $\\land$ `mis, sus)` is not presumptively valid. The misguidedness is not rebutting, hence undercutting since `(wit` $\\land$ `mis, ¬sus)` is not presumptively valid. The misguidedness is excluding since the argument `(wit` $\\land$ `mis, sus)` is not even coherent.\" (p. 139)"
   ],
   "cell_type": "markdown",
   "metadata": {}
  },
  {
   "cell_type": "code",
   "execution_count": 12,
   "metadata": {},
   "outputs": [],
   "source": [
    "argument = Argument.fromStr('wit -> sus')\n",
    "circumstances = [Fact.fromStr('mis')]\n",
    "assert argument.is_defeated_by_in(circumstances, case_model)\n",
    "assert argument.is_undercut_by_in(circumstances, case_model)\n",
    "assert argument.is_excluded_by_in(circumstances, case_model)"
   ]
  },
  {
   "source": [
    "### Learning arguments"
   ],
   "cell_type": "markdown",
   "metadata": {}
  },
  {
   "cell_type": "code",
   "execution_count": 13,
   "metadata": {},
   "outputs": [
    {
     "output_type": "stream",
     "name": "stdout",
     "text": [
      "\nwit <- \nsus ∧ ¬mis <~ \n---\n\nsus <- ¬mis\nwit <- \n¬mis <- sus\nsus ∧ ¬mis <~ \n---\n\nsus <~ \nwit <~ \n¬mis <~ \n"
     ]
    }
   ],
   "source": [
    "print(Theory.learn_with_naive_search(case_model))\n",
    "print('---')\n",
    "print(Theory.learn_with_pruned_search(case_model))\n",
    "print('---')\n",
    "print(Theory.learn_with_hero(case_model))"
   ]
  },
  {
   "source": [
    "## Chaining arguments"
   ],
   "cell_type": "markdown",
   "metadata": {}
  },
  {
   "source": [
    "\"Arguments can typically be chained, namely when the conclusion of one is a premise of another. For instance when there is evidence (`evi`) that a suspect is guilty of a crime (`gui`), the suspect’s guilt can be the basis of punishing the suspect (`pun`). For both steps there are typical defeating circumstances. The step from the evidence to guilt is blocked when there is a solid alibi (`ali`), and the step from guilt to punishing is blocked when there are grounds of justification (`jus`), such as force majeure. (...)\n",
    "In the case model, Case 1 is preferred to Case 2 and Case 3, modeling that the evidence typically leads to guilt and punishing, unless there are grounds for justification (Case 2) or there is an alibi (Case 3). Cases 2 and 3 are preferentially equivalent.\" (p. 139-140)"
   ],
   "cell_type": "markdown",
   "metadata": {}
  },
  {
   "source": [
    "case_model = CaseModel.fromStr([\n",
    "    (1, 'pun, gui, evi'),\n",
    "    (0, '¬pun, gui, evi, jus'),\n",
    "    (0, '¬gui, evi, ali')\n",
    "])"
   ],
   "cell_type": "code",
   "metadata": {},
   "execution_count": 14,
   "outputs": []
  },
  {
   "source": [
    "\"In this case model, the following arguments are presumptively valid: \n",
    "\n",
    "- Argument 1 (presumptively valid): `(evi, gui)` \n",
    "- Argument 2 (presumptively valid): `(gui, pun)`\n",
    "- Argument 3 (presumptively valid): (`evi, gui` $\\land$ `pun`)\"\n",
    "\n",
    "(p. 140)"
   ],
   "cell_type": "markdown",
   "metadata": {}
  },
  {
   "cell_type": "code",
   "execution_count": 15,
   "metadata": {},
   "outputs": [],
   "source": [
    "argument1 = Argument.fromStr('evi -> gui')\n",
    "argument2 = Argument.fromStr('gui -> pun')\n",
    "argument3 = Argument.fromStr('evi -> gui, pun')\n",
    "\n",
    "assert argument1.is_presumptively_valid_in(case_model)\n",
    "assert argument2.is_presumptively_valid_in(case_model)\n",
    "assert argument3.is_presumptively_valid_in(case_model)\n"
   ]
  },
  {
   "source": [
    "\"The following arguments are not presumptively valid in this case model:\n",
    "\n",
    "- Argument 4 (not presumptively valid): `(evi` $\\land$ `ali, gui)`\n",
    "- Argument 5 (not presumptively valid): `(gui` $\\land$ `jus, pun)`\"\n",
    "\n",
    "(p. 141)"
   ],
   "cell_type": "markdown",
   "metadata": {}
  },
  {
   "cell_type": "code",
   "execution_count": 16,
   "metadata": {},
   "outputs": [],
   "source": [
    "argument4 = Argument.fromStr('evi, ali -> gui')\n",
    "argument5 = Argument.fromStr('gui, jus -> pun')\n",
    "assert not argument4.is_presumptively_valid_in(case_model)\n",
    "assert not argument5.is_presumptively_valid_in(case_model)"
   ]
  },
  {
   "source": [
    "\"This shows that Arguments 1 and 2 are defeated by circumstances `ali` and `jus`, respectively:\" (p. 141)"
   ],
   "cell_type": "markdown",
   "metadata": {}
  },
  {
   "cell_type": "code",
   "execution_count": 17,
   "metadata": {},
   "outputs": [],
   "source": [
    "assert argument1.is_defeated_by_in([Fact.fromStr('ali')], case_model)\n",
    "assert argument2.is_defeated_by_in([Fact.fromStr('jus')], case_model)"
   ]
  },
  {
   "source": [
    "\"As expected, chaining the arguments fails under both of these defeating circumstances, as shown by the fact that these two arguments are not presumptively valid:\n",
    "\n",
    "- Argument 6 (not presumptively valid): `(evi` $\\land$ `ali, gui` $\\land$ `pun)`\n",
    "- Argument 7 (not presumptively valid): `(gui` $\\land$ `jus, gui` $\\land$ `pun)`\"\n",
    "\n",
    "(p. 141)"
   ],
   "cell_type": "markdown",
   "metadata": {}
  },
  {
   "cell_type": "code",
   "execution_count": 18,
   "metadata": {},
   "outputs": [],
   "source": [
    "argument6 = Argument.fromStr('evi, ali -> gui, pun')\n",
    "argument7 = Argument.fromStr('gui, jus -> gui, pun')\n",
    "assert not argument4.is_presumptively_valid_in(case_model)\n",
    "assert not argument5.is_presumptively_valid_in(case_model)"
   ]
  },
  {
   "source": [
    "\"But the first step of the chain—the step to guilt—can be made when there are grounds for justification. Formally, this can be seen by the presumptive validity of this argument: \n",
    "\n",
    "- Argument 8 (presumptively valid): `(evi` $\\land$ `jus, gui)`\"\n",
    "\n",
    "(p. 141)"
   ],
   "cell_type": "markdown",
   "metadata": {}
  },
  {
   "cell_type": "code",
   "execution_count": 19,
   "metadata": {},
   "outputs": [],
   "source": [
    "argument8 = Argument.fromStr('evi, jus -> gui')\n",
    "assert argument8.is_presumptively_valid_in(case_model)"
   ]
  },
  {
   "source": [
    "### Learning arguments"
   ],
   "cell_type": "markdown",
   "metadata": {}
  },
  {
   "cell_type": "code",
   "execution_count": 20,
   "metadata": {
    "tags": []
   },
   "outputs": [
    {
     "output_type": "stream",
     "name": "stdout",
     "text": [
      "\nevi <- \ngui ∧ pun <~ \n---\n\nali <- ¬gui\nevi <- \ngui <- pun\ngui ∧ jus <- ¬pun\ngui ∧ ¬pun <- jus\n¬gui <- ali\ngui ∧ pun <~ \n---\n\ngui <~ \n¬gui <~ ali\njus <~ \nali <~ \nevi <~ \npun <~ \n¬pun <~ jus\n"
     ]
    }
   ],
   "source": [
    "print(Theory.learn_with_naive_search(case_model))\n",
    "print('---')\n",
    "print(Theory.learn_with_pruned_search(case_model))\n",
    "print('---')\n",
    "print(Theory.learn_with_hero(case_model))"
   ]
  },
  {
   "source": [
    "## DNA evidence"
   ],
   "cell_type": "markdown",
   "metadata": {}
  },
  {
   "source": [
    "\"We discuss an example, adapting our earlier treatment of the presumption of innocence. Consider a crime case where two pieces of evidence are found, one after another. In combination, they are considered to prove the suspect’s guilt beyond a reasonable doubt. For instance, one piece of evidence is a witness who claims to have seen the suspect committing the crime (`evi`), and a second piece of evidence is DNA evidence matching the suspect’s profile (`evi'`). The issue is whether the suspect is innocent (`inn`) or guilty (`gui`). Consider now a case model with four cases:\n",
    "\n",
    "- Case 1: `inn` $\\land$ `¬gui` $\\land$ `¬evi`\n",
    "- Case 2: `¬inn` $\\land$ `gui` $\\land$ `evi` $\\land$ `¬evi'` \n",
    "- Case 3: `inn` $\\land$ `¬gui` $\\land$ `evi` $\\land$ `¬evi'`\n",
    "- Case 4: `¬inn` $\\land$ `gui` $\\land$ `evi` $\\land$ `evi'`\n",
    "\n",
    "Case 1 expresses the situation when no evidence has been found, hence the suspect is considered innocent and not guilty. In order to express that by default there is no evidence concerning someone’s guilt, this case has highest preference. Cases 2 and 3 express the situation that the first piece of evidence is found. Case 2 expresses guilt, Case 3 innocence, still considered a possibility given only the first piece of evidence. In order to express that `evi` makes the suspect’s guilt more plausible than his innocence, Case 2 has higher preference than Case 3. Case 4 represents the situation that both pieces of evidence are available, proving guilt. It has lowest preference. Summarizing the preference relation we have:\n",
    "\n",
    "Case 1 > Case 2 > Case 3 > Case 4\"\n",
    "\n",
    "(p. 145-146)"
   ],
   "cell_type": "markdown",
   "metadata": {}
  },
  {
   "cell_type": "code",
   "execution_count": 21,
   "metadata": {},
   "outputs": [],
   "source": [
    "case_model = CaseModel.fromStr([\n",
    "    (3, 'inn, ¬gui, ¬evi'),\n",
    "    (2, \"¬inn, gui, evi, ¬evi'\"),\n",
    "    (1, \"inn, ¬gui, evi, ¬evi'\"),\n",
    "    (0, \"¬inn, gui, evi, evi'\"),\n",
    "])"
   ]
  },
  {
   "source": [
    "table 1 and 2"
   ],
   "cell_type": "markdown",
   "metadata": {}
  },
  {
   "cell_type": "code",
   "execution_count": 22,
   "metadata": {},
   "outputs": [],
   "source": [
    "argument1 = Argument.fromStr('-> inn')\n",
    "argument2 = Argument.fromStr('-> gui')\n",
    "argument3 = Argument.fromStr('evi -> inn')\n",
    "argument4 = Argument.fromStr('evi -> gui')\n",
    "argument5 = Argument.fromStr(\"evi, evi' -> inn\")\n",
    "argument6 = Argument.fromStr(\"evi, evi' -> gui\")\n",
    "\n",
    "assert argument1.is_coherent_in(case_model)\n",
    "assert not argument1.is_conclusive_in(case_model)\n",
    "assert argument1.is_presumptively_valid_in(case_model)\n",
    "\n",
    "assert argument2.is_coherent_in(case_model)\n",
    "assert not argument2.is_conclusive_in(case_model)\n",
    "assert not argument2.is_presumptively_valid_in(case_model)\n",
    "\n",
    "assert argument3.is_coherent_in(case_model)\n",
    "assert not argument3.is_conclusive_in(case_model)\n",
    "assert not argument3.is_presumptively_valid_in(case_model)\n",
    "\n",
    "assert argument4.is_coherent_in(case_model)\n",
    "assert not argument4.is_conclusive_in(case_model)\n",
    "assert argument4.is_presumptively_valid_in(case_model)\n",
    "\n",
    "assert not argument5.is_coherent_in(case_model)\n",
    "assert not argument5.is_conclusive_in(case_model)\n",
    "assert not argument5.is_presumptively_valid_in(case_model)\n",
    "\n",
    "assert argument6.is_coherent_in(case_model)\n",
    "assert argument6.is_conclusive_in(case_model)\n",
    "assert argument6.is_presumptively_valid_in(case_model)"
   ]
  },
  {
   "source": [
    "### Learning arguments"
   ],
   "cell_type": "markdown",
   "metadata": {}
  },
  {
   "cell_type": "code",
   "execution_count": 23,
   "metadata": {
    "tags": []
   },
   "outputs": [
    {
     "output_type": "stream",
     "name": "stdout",
     "text": [
      "\n",
      "inn ∧ ¬evi ∧ ¬gui <~ \n",
      "---\n",
      "\n",
      "evi <- ¬evi'\n",
      "evi ∧ gui <- ¬inn\n",
      "evi ∧ gui ∧ ¬inn <- evi'\n",
      "evi ∧ ¬inn <- gui\n",
      "gui <- evi ∧ ¬evi' ∧ ¬inn\n",
      "gui <- evi ∧ ¬inn\n",
      "gui <- ¬evi' ∧ ¬inn\n",
      "gui ∧ ¬inn <- evi ∧ evi'\n",
      "inn <- evi ∧ ¬evi' ∧ ¬gui\n",
      "inn <- ¬evi' ∧ ¬gui\n",
      "inn <- ¬gui\n",
      "inn ∧ ¬evi' <- evi ∧ ¬gui\n",
      "inn ∧ ¬gui <- ¬evi\n",
      "¬evi' ∧ ¬gui <- evi ∧ inn\n",
      "¬gui <- evi ∧ inn ∧ ¬evi'\n",
      "¬gui <- inn\n",
      "¬gui <- inn ∧ ¬evi'\n",
      "¬inn <- evi ∧ gui\n",
      "¬inn <- evi ∧ gui ∧ ¬evi'\n",
      "¬inn <- gui ∧ ¬evi'\n",
      "gui ∧ ¬evi' ∧ ¬inn <~ evi\n",
      "gui ∧ ¬inn <~ evi ∧ ¬evi'\n",
      "gui ∧ ¬inn <~ ¬evi'\n",
      "inn ∧ ¬evi ∧ ¬gui <~ \n",
      "¬evi' <~ evi ∧ gui\n",
      "¬evi' <~ evi ∧ gui ∧ ¬inn\n",
      "¬evi' <~ evi ∧ ¬inn\n",
      "¬evi' <~ gui\n",
      "¬evi' <~ gui ∧ ¬inn\n",
      "¬evi' <~ ¬inn\n",
      "---\n",
      "\n",
      "¬evi' <~ \n",
      "¬gui <~ \n",
      "gui <~ ¬inn\n",
      "evi <~ \n",
      "inn <~ \n",
      "¬inn <~ gui\n"
     ]
    }
   ],
   "source": [
    "print(Theory.learn_with_naive_search(case_model))\n",
    "print('---')\n",
    "print(Theory.learn_with_pruned_search(case_model))\n",
    "print('---')\n",
    "print(Theory.learn_with_hero(case_model))"
   ]
  },
  {
   "source": [
    "## Alfred Hitchcock's \"To catch a thief\""
   ],
   "cell_type": "markdown",
   "metadata": {}
  },
  {
   "source": [
    "\"During the investigation, gradually a case model has been developed representing the arguments discussed in the example. (...) First the properties of the four main hypotheses are accumulated (...):\" (p. 149)"
   ],
   "cell_type": "markdown",
   "metadata": {}
  },
  {
   "cell_type": "code",
   "execution_count": 24,
   "metadata": {},
   "outputs": [],
   "source": [
    "hypothesis1 = Case.fromStr(None, 'rob')\n",
    "hypothesis2 = Case.fromStr(None, '¬rob, fou')\n",
    "hypothesis3 = Case.fromStr(None, '¬rob, ¬fou, dau, jwl')\n",
    "hypothesis4 = Case.fromStr(None, '¬rob, ¬fou, ¬dau, ¬jwl')"
   ]
  },
  {
   "source": [
    "\"Then these are conjoined with the maximally specific accumulated evidence that provide a coherent argument for them:\" (p. 149)"
   ],
   "cell_type": "markdown",
   "metadata": {}
  },
  {
   "cell_type": "code",
   "execution_count": 25,
   "metadata": {},
   "outputs": [],
   "source": [
    "evidence1 = Case.fromStr(None, 'res, esc')\n",
    "evidence2 = Case.fromStr(None, 'res, esc, fgt')\n",
    "evidence3 = Case.fromStr(None, 'res, esc, fgt, pro, cau, con, fin')\n",
    "evidence4 = Case.fromStr(None, 'res, esc, fgt, pro, cau, con')"
   ]
  },
  {
   "source": [
    "\"Cases 5–7 complete the case model. Case 5 is the hypothetical case that Robie is not the thief, that there is resemblance, and the Robie does not escape. In Case 6, Robie and Foussard are not the thieves, and there is no fight. In Case 7, Robie, Foussard and his daughter are not the thieves, and she is not caught in the act. Note that the cases are consistent and mutually exclusive.\""
   ],
   "cell_type": "markdown",
   "metadata": {}
  },
  {
   "cell_type": "code",
   "execution_count": 26,
   "metadata": {},
   "outputs": [],
   "source": [
    "case1 = Case(4, hypothesis1.facts + evidence1.facts)\n",
    "case2 = Case(3, hypothesis2.facts + evidence2.facts)\n",
    "case3 = Case(1, hypothesis3.facts + evidence3.facts)\n",
    "case4 = Case(0, hypothesis4.facts + evidence4.facts)\n",
    "case5 = Case.fromStr(3, '¬rob, res, ¬esc')\n",
    "case6 = Case.fromStr(2, '¬rob, ¬fou, res, esc, ¬fgt')\n",
    "case7 = Case.fromStr(0, '¬rob, ¬fou, ¬dau, res, esc, fgt, pro, ¬cau')\n",
    "case_model = CaseModel(\n",
    "    [case1, case2, case3, case4, case5, case6, case7])"
   ]
  },
  {
   "source": [
    "\"(...) the argument from the evidential premises `res` $\\land$ `esc` to the hypothesis `rob` is presumptively valid in this case model since Case 1 is the only case implying the case made by the argument. It is not conclusive since also the argument from these same premises to `¬rob` is coherent.\" (p. 150)"
   ],
   "cell_type": "markdown",
   "metadata": {}
  },
  {
   "cell_type": "code",
   "execution_count": 27,
   "metadata": {},
   "outputs": [],
   "source": [
    "argument1 = Argument.fromStr('res, esc -> rob')\n",
    "assert argument1.is_presumptively_valid_in(case_model)\n",
    "assert not argument1.is_conclusive_in(case_model)"
   ]
  },
  {
   "source": [
    "\"The latter argument is not presumptively valid since all `¬rob`-cases implying the premises (Cases 2–7) have lower preference than Case 1.\" (p. 150)"
   ],
   "cell_type": "markdown",
   "metadata": {}
  },
  {
   "cell_type": "code",
   "execution_count": 28,
   "metadata": {},
   "outputs": [],
   "source": [
    "argument2 = Argument.fromStr('res, esc -> ¬rob')\n",
    "assert not argument2.is_presumptively_valid_in(case_model)"
   ]
  },
  {
   "source": [
    "\"The argument from `res` $\\land$ `esc` $\\land$ `fgt` to `rob` is incoherent as there is no case in which the premises and the conclusion follow.\" (p. 150)"
   ],
   "cell_type": "markdown",
   "metadata": {}
  },
  {
   "cell_type": "code",
   "execution_count": 29,
   "metadata": {},
   "outputs": [],
   "source": [
    "argument3 = Argument.fromStr('res, esc, fgt -> rob')\n",
    "assert not argument3.is_coherent_in(case_model)"
   ]
  },
  {
   "source": [
    "\"Also arguments that do not start from evidential premises can be evaluated. For instance, the argument from the premise (not itself evidence) `dau` to `jwl` is conclusive since in the only case implying the premises (Case 3) the conclusion follows.\" (p. 150)"
   ],
   "cell_type": "markdown",
   "metadata": {}
  },
  {
   "cell_type": "code",
   "execution_count": 30,
   "metadata": {},
   "outputs": [],
   "source": [
    "argument4 = Argument.fromStr('dau -> jwl')\n",
    "assert argument4.is_conclusive_in(case_model)"
   ]
  },
  {
   "source": [
    "\"Finally we find the conclusive argument from premises `res` $\\land$ `esc` $\\land$ `fgt` $\\land$ `pro` $\\land$ `cau` $\\land$ `con` $\\land$ `jwl` to conclusion `¬rob` $\\land$ `¬fou` $\\land$ `dau` $\\land$ `jwl` (only Case 3 implies the premises), hence also to `dau`.\" (p. 150)"
   ],
   "cell_type": "markdown",
   "metadata": {}
  },
  {
   "cell_type": "code",
   "execution_count": 31,
   "metadata": {},
   "outputs": [],
   "source": [
    "argument5 = Argument.fromStr('res, esc, fgt, pro, cau, con, jwl -> ¬rob, ¬fou, dau, jwl')\n",
    "assert argument5.is_conclusive_in(case_model)"
   ]
  },
  {
   "source": [
    "### Learning arguments\n",
    "\n",
    "We cannot learn the arguments naively, because the case model is too big. "
   ],
   "cell_type": "markdown",
   "metadata": {}
  },
  {
   "cell_type": "code",
   "execution_count": 32,
   "metadata": {
    "tags": []
   },
   "outputs": [
    {
     "output_type": "stream",
     "name": "stdout",
     "text": [
      "---\n",
      "---\n",
      "\n",
      "cau <~ \n",
      "con <~ \n",
      "fgt <~ \n",
      "¬dau <~ \n",
      "dau <~ jwl\n",
      "jwl <~ \n",
      "¬jwl <~ ¬dau\n",
      "fin <~ \n",
      "¬rob <~ \n",
      "res <~ \n",
      "esc <~ \n",
      "¬fou <~ \n",
      "pro <~ \n"
     ]
    }
   ],
   "source": [
    "# print(Theory.learn_with_naive_search(case_model))\n",
    "print('---')\n",
    "# print(Theory.learn_with_pruned_search(case_model))\n",
    "print('---')\n",
    "print(Theory.learn_with_hero(case_model))"
   ]
  },
  {
   "cell_type": "code",
   "execution_count": null,
   "metadata": {},
   "outputs": [],
   "source": []
  }
 ]
}